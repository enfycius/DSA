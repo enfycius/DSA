{
 "cells": [
  {
   "cell_type": "code",
   "execution_count": 1,
   "metadata": {},
   "outputs": [],
   "source": [
    "from node import Node"
   ]
  },
  {
   "cell_type": "code",
   "execution_count": 2,
   "metadata": {},
   "outputs": [],
   "source": [
    "n1 = Node(\"root node\")\n",
    "n2 = Node(\"left child node\")\n",
    "n3 = Node(\"right child node\")\n",
    "n4 = Node(\"left grandchild node\")"
   ]
  },
  {
   "cell_type": "code",
   "execution_count": 3,
   "metadata": {},
   "outputs": [],
   "source": [
    "n1.left_child = n2\n",
    "n1.right_child = n3\n",
    "n2.left_child = n4"
   ]
  },
  {
   "cell_type": "code",
   "execution_count": 4,
   "metadata": {},
   "outputs": [
    {
     "name": "stdout",
     "output_type": "stream",
     "text": [
      "root node\n",
      "left child node\n",
      "left grandchild node\n"
     ]
    }
   ],
   "source": [
    "current = n1\n",
    "\n",
    "while current:\n",
    "    print(current.data)\n",
    "\n",
    "    current = current.left_child"
   ]
  },
  {
   "cell_type": "markdown",
   "metadata": {},
   "source": [
    "> 위의 방식은 왼쪽 자식 노드들만 탐색하는 방식이므로, 엄밀한 의미에서 Tree Traversal로 보기 어려움.\n",
    ">\n",
    "> Tree Traversal은 일반적으로 모든 자식 노드를 방문하는 과정을 포함함."
   ]
  },
  {
   "cell_type": "markdown",
   "metadata": {},
   "source": [
    "> 이에 Tree Traversal하는 다음 세 가지 방법에 대한 각각의 코드를 제시하고자 함."
   ]
  },
  {
   "cell_type": "markdown",
   "metadata": {},
   "source": [
    "# In-order traversal"
   ]
  },
  {
   "cell_type": "code",
   "execution_count": 5,
   "metadata": {},
   "outputs": [],
   "source": [
    "def inorder(root_node):\n",
    "    current = root_node\n",
    "\n",
    "    if current is None:\n",
    "        return\n",
    "    \n",
    "    inorder(current.left_child)\n",
    "    print(current.data)\n",
    "    inorder(current.right_child)"
   ]
  },
  {
   "cell_type": "code",
   "execution_count": 6,
   "metadata": {},
   "outputs": [
    {
     "name": "stdout",
     "output_type": "stream",
     "text": [
      "left grandchild node\n",
      "left child node\n",
      "root node\n",
      "right child node\n"
     ]
    }
   ],
   "source": [
    "inorder(n1)"
   ]
  },
  {
   "cell_type": "markdown",
   "metadata": {},
   "source": [
    "# Pre-order traversal"
   ]
  },
  {
   "cell_type": "code",
   "execution_count": 7,
   "metadata": {},
   "outputs": [],
   "source": [
    "def preorder(root_node):\n",
    "    current = root_node\n",
    "\n",
    "    if current is None:\n",
    "        return\n",
    "    \n",
    "    print(current.data)\n",
    "    preorder(current.left_child)\n",
    "    preorder(current.right_child)"
   ]
  },
  {
   "cell_type": "code",
   "execution_count": 8,
   "metadata": {},
   "outputs": [
    {
     "name": "stdout",
     "output_type": "stream",
     "text": [
      "root node\n",
      "left child node\n",
      "left grandchild node\n",
      "right child node\n"
     ]
    }
   ],
   "source": [
    "preorder(n1)"
   ]
  },
  {
   "cell_type": "markdown",
   "metadata": {},
   "source": [
    "# Post-order traversal"
   ]
  },
  {
   "cell_type": "code",
   "execution_count": 9,
   "metadata": {},
   "outputs": [],
   "source": [
    "def postorder(root_node):\n",
    "    current = root_node\n",
    "\n",
    "    if current is None:\n",
    "        return\n",
    "    \n",
    "    postorder(current.left_child)\n",
    "    postorder(current.right_child)\n",
    "    print(current.data)"
   ]
  },
  {
   "cell_type": "code",
   "execution_count": 10,
   "metadata": {},
   "outputs": [
    {
     "name": "stdout",
     "output_type": "stream",
     "text": [
      "left grandchild node\n",
      "left child node\n",
      "right child node\n",
      "root node\n"
     ]
    }
   ],
   "source": [
    "postorder(n1)"
   ]
  }
 ],
 "metadata": {
  "kernelspec": {
   "display_name": "base",
   "language": "python",
   "name": "python3"
  },
  "language_info": {
   "codemirror_mode": {
    "name": "ipython",
    "version": 3
   },
   "file_extension": ".py",
   "mimetype": "text/x-python",
   "name": "python",
   "nbconvert_exporter": "python",
   "pygments_lexer": "ipython3",
   "version": "3.10.10"
  }
 },
 "nbformat": 4,
 "nbformat_minor": 2
}
